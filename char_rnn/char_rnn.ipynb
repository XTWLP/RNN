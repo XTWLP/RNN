{
  "nbformat": 4,
  "nbformat_minor": 0,
  "metadata": {
    "colab": {
      "name": "char_rnn.ipynb",
      "provenance": [],
      "authorship_tag": "ABX9TyMZhkCLHB04qEFJL4JLZh8V",
      "include_colab_link": true
    },
    "kernelspec": {
      "name": "python3",
      "display_name": "Python 3"
    }
  },
  "cells": [
    {
      "cell_type": "markdown",
      "metadata": {
        "id": "view-in-github",
        "colab_type": "text"
      },
      "source": [
        "<a href=\"https://colab.research.google.com/github/XTWLP/RNN/blob/main/char_rnn/char_rnn.ipynb\" target=\"_parent\"><img src=\"https://colab.research.google.com/assets/colab-badge.svg\" alt=\"Open In Colab\"/></a>"
      ]
    },
    {
      "cell_type": "code",
      "metadata": {
        "id": "DL26AQB0kbM_"
      },
      "source": [
        "%matplotlib inline"
      ],
      "execution_count": 12,
      "outputs": []
    },
    {
      "cell_type": "code",
      "metadata": {
        "colab": {
          "base_uri": "https://localhost:8080/"
        },
        "id": "U-YF364MkcZg",
        "outputId": "be6e3c3f-588e-4673-e24a-43d1323e33a0"
      },
      "source": [
        "from google.colab import drive\r\n",
        "drive.mount('/content/drive')"
      ],
      "execution_count": 13,
      "outputs": [
        {
          "output_type": "stream",
          "text": [
            "Drive already mounted at /content/drive; to attempt to forcibly remount, call drive.mount(\"/content/drive\", force_remount=True).\n"
          ],
          "name": "stdout"
        }
      ]
    },
    {
      "cell_type": "code",
      "metadata": {
        "colab": {
          "base_uri": "https://localhost:8080/"
        },
        "id": "T70LOozckek3",
        "outputId": "61d87afe-90eb-4af3-d315-4ce608e65038"
      },
      "source": [
        "!unzip \"/content/drive/MyDrive/data.zip\""
      ],
      "execution_count": 14,
      "outputs": [
        {
          "output_type": "stream",
          "text": [
            "Archive:  /content/drive/MyDrive/data.zip\n",
            "replace data/eng-fra.txt? [y]es, [n]o, [A]ll, [N]one, [r]ename: "
          ],
          "name": "stdout"
        }
      ]
    },
    {
      "cell_type": "code",
      "metadata": {
        "colab": {
          "base_uri": "https://localhost:8080/"
        },
        "id": "PDd5eC4Bkgwn",
        "outputId": "0330861f-7af3-443a-a1ef-7dacdae67e31"
      },
      "source": [
        "from __future__ import unicode_literals, print_function, division\r\n",
        "from io import open\r\n",
        "import glob\r\n",
        "import os\r\n",
        "\r\n",
        "def findFiles(path): return glob.glob(path)\r\n",
        "\r\n",
        "print(findFiles('data/names/*.txt'))\r\n",
        "\r\n",
        "import unicodedata\r\n",
        "import string\r\n",
        "\r\n",
        "all_letters = string.ascii_letters + \" .,;'\"\r\n",
        "n_letters = len(all_letters)\r\n",
        "\r\n",
        "# Turn a Unicode string to plain ASCII, thanks to https://stackoverflow.com/a/518232/2809427\r\n",
        "def unicodeToAscii(s):\r\n",
        "    return ''.join(\r\n",
        "        c for c in unicodedata.normalize('NFD', s)\r\n",
        "        if unicodedata.category(c) != 'Mn'\r\n",
        "        and c in all_letters\r\n",
        "    )\r\n",
        "\r\n",
        "print(unicodeToAscii('Ślusàrski'))\r\n",
        "\r\n",
        "# Build the category_lines dictionary, a list of names per language\r\n",
        "category_lines = {}\r\n",
        "all_categories = []\r\n",
        "\r\n",
        "# Read a file and split into lines\r\n",
        "def readLines(filename):\r\n",
        "    lines = open(filename, encoding='utf-8').read().strip().split('\\n')\r\n",
        "    return [unicodeToAscii(line) for line in lines]\r\n",
        "\r\n",
        "for filename in findFiles('data/names/*.txt'):\r\n",
        "    category = os.path.splitext(os.path.basename(filename))[0]\r\n",
        "    all_categories.append(category)\r\n",
        "    lines = readLines(filename)\r\n",
        "    category_lines[category] = lines\r\n",
        "\r\n",
        "n_categories = len(all_categories)"
      ],
      "execution_count": 15,
      "outputs": [
        {
          "output_type": "stream",
          "text": [
            "['data/names/Irish.txt', 'data/names/Greek.txt', 'data/names/Korean.txt', 'data/names/Japanese.txt', 'data/names/English.txt', 'data/names/French.txt', 'data/names/Italian.txt', 'data/names/Russian.txt', 'data/names/Polish.txt', 'data/names/Czech.txt', 'data/names/Portuguese.txt', 'data/names/German.txt', 'data/names/Scottish.txt', 'data/names/Dutch.txt', 'data/names/Spanish.txt', 'data/names/Chinese.txt', 'data/names/Vietnamese.txt', 'data/names/Arabic.txt']\n",
            "Slusarski\n"
          ],
          "name": "stdout"
        }
      ]
    },
    {
      "cell_type": "code",
      "metadata": {
        "colab": {
          "base_uri": "https://localhost:8080/"
        },
        "id": "RlvzDPPjkimE",
        "outputId": "62d4d78a-35b6-4a98-fa0a-bdeb1f807de7"
      },
      "source": [
        "print(category_lines['Italian'][:5])"
      ],
      "execution_count": 16,
      "outputs": [
        {
          "output_type": "stream",
          "text": [
            "['Abandonato', 'Abatangelo', 'Abatantuono', 'Abate', 'Abategiovanni']\n"
          ],
          "name": "stdout"
        }
      ]
    },
    {
      "cell_type": "code",
      "metadata": {
        "colab": {
          "base_uri": "https://localhost:8080/"
        },
        "id": "ow3eVwRZkjh5",
        "outputId": "f6ee895b-e29c-4ff5-c6cd-0fdac38a52fe"
      },
      "source": [
        "import torch\r\n",
        "\r\n",
        "# Find letter index from all_letters, e.g. \"a\" = 0\r\n",
        "def letterToIndex(letter):\r\n",
        "    return all_letters.find(letter)\r\n",
        "\r\n",
        "# Just for demonstration, turn a letter into a <1 x n_letters> Tensor\r\n",
        "def letterToTensor(letter):\r\n",
        "    tensor = torch.zeros(1, n_letters)\r\n",
        "    tensor[0][letterToIndex(letter)] = 1\r\n",
        "    return tensor\r\n",
        "\r\n",
        "# Turn a line into a <line_length x 1 x n_letters>,\r\n",
        "# or an array of one-hot letter vectors\r\n",
        "def lineToTensor(line):\r\n",
        "    tensor = torch.zeros(len(line), 1, n_letters)\r\n",
        "    for li, letter in enumerate(line):\r\n",
        "        tensor[li][0][letterToIndex(letter)] = 1\r\n",
        "    return tensor\r\n",
        "\r\n",
        "print(letterToTensor('J'))\r\n",
        "\r\n",
        "print(lineToTensor('Jones').size())"
      ],
      "execution_count": 17,
      "outputs": [
        {
          "output_type": "stream",
          "text": [
            "tensor([[0., 0., 0., 0., 0., 0., 0., 0., 0., 0., 0., 0., 0., 0., 0., 0., 0., 0.,\n",
            "         0., 0., 0., 0., 0., 0., 0., 0., 0., 0., 0., 0., 0., 0., 0., 0., 0., 1.,\n",
            "         0., 0., 0., 0., 0., 0., 0., 0., 0., 0., 0., 0., 0., 0., 0., 0., 0., 0.,\n",
            "         0., 0., 0.]])\n",
            "torch.Size([5, 1, 57])\n"
          ],
          "name": "stdout"
        }
      ]
    },
    {
      "cell_type": "code",
      "metadata": {
        "id": "Pg3p2Sjekmk_"
      },
      "source": [
        "import torch.nn as nn\r\n",
        "\r\n",
        "class RNN(nn.Module):\r\n",
        "    def __init__(self, input_size, hidden_size, output_size):\r\n",
        "        super(RNN, self).__init__()\r\n",
        "\r\n",
        "        self.hidden_size = hidden_size\r\n",
        "\r\n",
        "        self.i2h = nn.Linear(input_size + hidden_size, hidden_size)\r\n",
        "        self.i2o = nn.Linear(input_size + hidden_size, output_size)\r\n",
        "        self.softmax = nn.LogSoftmax(dim=1)\r\n",
        "\r\n",
        "    def forward(self, input, hidden):\r\n",
        "        combined = torch.cat((input, hidden), 1)\r\n",
        "        hidden = self.i2h(combined)\r\n",
        "        output = self.i2o(combined)\r\n",
        "        output = self.softmax(output)\r\n",
        "        return output, hidden\r\n",
        "\r\n",
        "    def initHidden(self):\r\n",
        "        return torch.zeros(1, self.hidden_size)\r\n",
        "\r\n",
        "n_hidden = 128\r\n",
        "rnn = RNN(n_letters, n_hidden, n_categories)"
      ],
      "execution_count": 18,
      "outputs": []
    },
    {
      "cell_type": "code",
      "metadata": {
        "id": "UM-fBlmIm0Yg",
        "outputId": "b30254cc-2931-4649-c41e-68361687b365",
        "colab": {
          "base_uri": "https://localhost:8080/"
        }
      },
      "source": [
        "def categoryFromOutput(output):\r\n",
        "    top_n, top_i = output.topk(1)\r\n",
        "    category_i = top_i[0].item()\r\n",
        "    return all_categories[category_i], category_i\r\n",
        "\r\n",
        "print(categoryFromOutput(output))"
      ],
      "execution_count": 23,
      "outputs": [
        {
          "output_type": "stream",
          "text": [
            "('Irish', 0)\n"
          ],
          "name": "stdout"
        }
      ]
    },
    {
      "cell_type": "code",
      "metadata": {
        "colab": {
          "base_uri": "https://localhost:8080/"
        },
        "id": "T-X-obV_kqHg",
        "outputId": "be95e733-a5c2-4e7a-8240-9a0b888117ed"
      },
      "source": [
        "import random\r\n",
        "\r\n",
        "def randomChoice(l):\r\n",
        "    return l[random.randint(0, len(l) - 1)]\r\n",
        "\r\n",
        "def randomTrainingExample():\r\n",
        "    category = randomChoice(all_categories)\r\n",
        "    line = randomChoice(category_lines[category])\r\n",
        "    category_tensor = torch.tensor([all_categories.index(category)], dtype=torch.long)\r\n",
        "    line_tensor = lineToTensor(line)\r\n",
        "    return category, line, category_tensor, line_tensor\r\n",
        "\r\n",
        "for i in range(10):\r\n",
        "    category, line, category_tensor, line_tensor = randomTrainingExample()\r\n",
        "    print('category =', category, '/ line =', line)"
      ],
      "execution_count": 24,
      "outputs": [
        {
          "output_type": "stream",
          "text": [
            "category = Dutch / line = Apeldoorn\n",
            "category = Arabic / line = Atiyeh\n",
            "category = Spanish / line = Garza\n",
            "category = Spanish / line = Amador\n",
            "category = Irish / line = Sullivan\n",
            "category = German / line = Weigand\n",
            "category = Dutch / line = Otten\n",
            "category = English / line = Arnall\n",
            "category = Irish / line = Maciomhair\n",
            "category = Scottish / line = Macdonald\n"
          ],
          "name": "stdout"
        }
      ]
    },
    {
      "cell_type": "code",
      "metadata": {
        "id": "vN-Z0j3FkrzI"
      },
      "source": [
        "criterion = nn.NLLLoss()"
      ],
      "execution_count": 25,
      "outputs": []
    },
    {
      "cell_type": "code",
      "metadata": {
        "id": "6VzNB0BLktTW"
      },
      "source": [
        "learning_rate = 0.005 # If you set this too high, it might explode. If too low, it might not learn\r\n",
        "\r\n",
        "def train(category_tensor, line_tensor):\r\n",
        "    hidden = rnn.initHidden()\r\n",
        "\r\n",
        "    rnn.zero_grad()\r\n",
        "\r\n",
        "    for i in range(line_tensor.size()[0]):\r\n",
        "        output, hidden = rnn(line_tensor[i], hidden)\r\n",
        "\r\n",
        "    loss = criterion(output, category_tensor)\r\n",
        "    loss.backward()\r\n",
        "\r\n",
        "    # Add parameters' gradients to their values, multiplied by learning rate\r\n",
        "    for p in rnn.parameters():\r\n",
        "        p.data.add_(p.grad.data, alpha=-learning_rate)\r\n",
        "\r\n",
        "    return output, loss.item()"
      ],
      "execution_count": 26,
      "outputs": []
    },
    {
      "cell_type": "code",
      "metadata": {
        "colab": {
          "base_uri": "https://localhost:8080/"
        },
        "id": "5-XbWGOKkus5",
        "outputId": "d465c7fd-43e1-4d4c-f1bb-c48c4382861b"
      },
      "source": [
        "import time\r\n",
        "import math\r\n",
        "\r\n",
        "n_iters = 100000\r\n",
        "print_every = 5000\r\n",
        "plot_every = 1000\r\n",
        "\r\n",
        "\r\n",
        "\r\n",
        "# Keep track of losses for plotting\r\n",
        "current_loss = 0\r\n",
        "all_losses = []\r\n",
        "\r\n",
        "def timeSince(since):\r\n",
        "    now = time.time()\r\n",
        "    s = now - since\r\n",
        "    m = math.floor(s / 60)\r\n",
        "    s -= m * 60\r\n",
        "    return '%dm %ds' % (m, s)\r\n",
        "\r\n",
        "start = time.time()\r\n",
        "\r\n",
        "for iter in range(1, n_iters + 1):\r\n",
        "    category, line, category_tensor, line_tensor = randomTrainingExample()\r\n",
        "    output, loss = train(category_tensor, line_tensor)\r\n",
        "    current_loss += loss\r\n",
        "\r\n",
        "    # Print iter number, loss, name and guess\r\n",
        "    if iter % print_every == 0:\r\n",
        "        guess, guess_i = categoryFromOutput(output)\r\n",
        "        correct = '✓' if guess == category else '✗ (%s)' % category\r\n",
        "        print('%d %d%% (%s) %.4f %s / %s %s' % (iter, iter / n_iters * 100, timeSince(start), loss, line, guess, correct))\r\n",
        "\r\n",
        "    # Add current loss avg to list of losses\r\n",
        "    if iter % plot_every == 0:\r\n",
        "        all_losses.append(current_loss / plot_every)\r\n",
        "        current_loss = 0"
      ],
      "execution_count": 27,
      "outputs": [
        {
          "output_type": "stream",
          "text": [
            "5000 5% (0m 7s) 1.6963 Kowalczyk / Russian ✗ (Polish)\n",
            "10000 10% (0m 15s) 0.5706 Vaginov / Russian ✓\n",
            "15000 15% (0m 23s) 1.7772 Esteves / Dutch ✗ (Portuguese)\n",
            "20000 20% (0m 30s) 0.2955 Kyritsis / Greek ✓\n",
            "25000 25% (0m 38s) 1.1854 Pang / Chinese ✓\n",
            "30000 30% (0m 46s) 1.5399 Gaber / German ✗ (Arabic)\n",
            "35000 35% (0m 53s) 0.1873 Zielinski / Polish ✓\n",
            "40000 40% (1m 1s) 1.9337 Levett / German ✗ (English)\n",
            "45000 45% (1m 9s) 1.1732 An / Vietnamese ✓\n",
            "50000 50% (1m 16s) 1.6766 Andreu / Spanish ✓\n",
            "55000 55% (1m 24s) 1.1342 White / Scottish ✓\n",
            "60000 60% (1m 32s) 0.0350 Mokeenkov / Russian ✓\n",
            "65000 65% (1m 39s) 1.3758 Thien / Vietnamese ✗ (Chinese)\n",
            "70000 70% (1m 47s) 2.3747 Leroy / Scottish ✗ (French)\n",
            "75000 75% (1m 55s) 4.2365 Seaghdha / Japanese ✗ (Irish)\n",
            "80000 80% (2m 2s) 0.4439 Forstner / German ✓\n",
            "85000 85% (2m 10s) 1.5137 Shiga / Vietnamese ✗ (Japanese)\n",
            "90000 90% (2m 18s) 1.1340 Sarkis / Greek ✗ (Arabic)\n",
            "95000 95% (2m 25s) 1.7634 Chu / Vietnamese ✗ (Chinese)\n",
            "100000 100% (2m 33s) 0.7805 Chan / Chinese ✓\n"
          ],
          "name": "stdout"
        }
      ]
    },
    {
      "cell_type": "code",
      "metadata": {
        "colab": {
          "base_uri": "https://localhost:8080/",
          "height": 283
        },
        "id": "eXveQQ5XkwQv",
        "outputId": "043416a7-2bb2-4721-8457-057364936c5a"
      },
      "source": [
        "import matplotlib.pyplot as plt\r\n",
        "import matplotlib.ticker as ticker\r\n",
        "\r\n",
        "plt.figure()\r\n",
        "plt.plot(all_losses)"
      ],
      "execution_count": 28,
      "outputs": [
        {
          "output_type": "execute_result",
          "data": {
            "text/plain": [
              "[<matplotlib.lines.Line2D at 0x7f2839ae1fd0>]"
            ]
          },
          "metadata": {
            "tags": []
          },
          "execution_count": 28
        },
        {
          "output_type": "display_data",
          "data": {
            "image/png": "[encoded data removed]",
            "text/plain": [
              "<Figure size 432x288 with 1 Axes>"
            ]
          },
          "metadata": {
            "tags": [],
            "needs_background": "light"
          }
        }
      ]
    },
    {
      "cell_type": "code",
      "metadata": {
        "colab": {
          "base_uri": "https://localhost:8080/",
          "height": 320
        },
        "id": "M7d0sn7LkyAQ",
        "outputId": "d553bb54-0ec2-4237-e749-aaf1650265af"
      },
      "source": [
        "# Keep track of correct guesses in a confusion matrix\r\n",
        "confusion = torch.zeros(n_categories, n_categories)\r\n",
        "n_confusion = 10000\r\n",
        "\r\n",
        "# Just return an output given a line\r\n",
        "def evaluate(line_tensor):\r\n",
        "    hidden = rnn.initHidden()\r\n",
        "\r\n",
        "    for i in range(line_tensor.size()[0]):\r\n",
        "        output, hidden = rnn(line_tensor[i], hidden)\r\n",
        "\r\n",
        "    return output\r\n",
        "\r\n",
        "# Go through a bunch of examples and record which are correctly guessed\r\n",
        "for i in range(n_confusion):\r\n",
        "    category, line, category_tensor, line_tensor = randomTrainingExample()\r\n",
        "    output = evaluate(line_tensor)\r\n",
        "    guess, guess_i = categoryFromOutput(output)\r\n",
        "    category_i = all_categories.index(category)\r\n",
        "    confusion[category_i][guess_i] += 1\r\n",
        "\r\n",
        "# Normalize by dividing every row by its sum\r\n",
        "for i in range(n_categories):\r\n",
        "    confusion[i] = confusion[i] / confusion[i].sum()\r\n",
        "\r\n",
        "# Set up plot\r\n",
        "fig = plt.figure()\r\n",
        "ax = fig.add_subplot(111)\r\n",
        "cax = ax.matshow(confusion.numpy())\r\n",
        "fig.colorbar(cax)\r\n",
        "\r\n",
        "# Set up axes\r\n",
        "ax.set_xticklabels([''] + all_categories, rotation=90)\r\n",
        "ax.set_yticklabels([''] + all_categories)\r\n",
        "\r\n",
        "# Force label at every tick\r\n",
        "ax.xaxis.set_major_locator(ticker.MultipleLocator(1))\r\n",
        "ax.yaxis.set_major_locator(ticker.MultipleLocator(1))\r\n",
        "\r\n",
        "# sphinx_gallery_thumbnail_number = 2\r\n",
        "plt.show()"
      ],
      "execution_count": 29,
      "outputs": [
        {
          "output_type": "display_data",
          "data": {
            "image/png": "[encoded data removed]",
            "text/plain": [
              "<Figure size 432x288 with 2 Axes>"
            ]
          },
          "metadata": {
            "tags": [],
            "needs_background": "light"
          }
        }
      ]
    }
  ]
}